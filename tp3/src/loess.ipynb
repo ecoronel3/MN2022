{
 "cells": [
  {
   "cell_type": "code",
   "execution_count": 49,
   "metadata": {},
   "outputs": [],
   "source": [
    "import numpy as np\n",
    "import math\n",
    "import numpy.linalg as linalg\n",
    "import pandas as pd\n",
    "from matplotlib import pyplot as plt\n",
    "import sklearn as skl\n",
    "from sklearn.preprocessing import PolynomialFeatures\n",
    "import heapq\n"
   ]
  },
  {
   "cell_type": "code",
   "execution_count": 27,
   "metadata": {},
   "outputs": [],
   "source": [
    "def tricubic(x):\n",
    "    y = np.zeros_like(x)\n",
    "    idx = (x >= 0) & (x <= 1)\n",
    "    y[idx] = np.power(1.0 - np.power(np.abs(x[idx]), 3), 3)\n",
    "    return y"
   ]
  },
  {
   "cell_type": "code",
   "execution_count": 28,
   "metadata": {},
   "outputs": [],
   "source": [
    "def normalize(array):\n",
    "    stds = array.std(axis=0)\n",
    "    \n",
    "    return (array- array.mean(axis=0))/stds"
   ]
  },
  {
   "cell_type": "code",
   "execution_count": 29,
   "metadata": {},
   "outputs": [],
   "source": [
    "def get_indexes(distances, q):\n",
    "    mins = []\n",
    "    for i in range(0, len(distances)):\n",
    "        if len(mins) >= q:\n",
    "            if mins[0][0] < -1*distances[i]:\n",
    "                heapq.heapreplace(mins, (-1*distances[i], i))\n",
    "        else:\n",
    "            heapq.heappush(mins, (-1*distances[i], i))\n",
    "\n",
    "    indexes = []\n",
    "    max_dist = 0.0\n",
    "    for (dist, index) in mins:\n",
    "        indexes.append(index)\n",
    "        if -1*dist > max_dist:\n",
    "            max_dist = -1*dist\n",
    "    return indexes, max_dist"
   ]
  },
  {
   "cell_type": "code",
   "execution_count": 30,
   "metadata": {},
   "outputs": [],
   "source": [
    "def get_weights(distances, max_dist):\n",
    "    weights = tricubic(distances/max_dist)\n",
    "    return np.diag(weights)"
   ]
  },
  {
   "cell_type": "code",
   "execution_count": 40,
   "metadata": {},
   "outputs": [],
   "source": [
    "def loess(data, Y, f=0.1, fit='quadratic', ord=2):\n",
    "    cant = len(Y)\n",
    "    q = int(math.ceil(f*cant))\n",
    "    data_norm = normalize(data)\n",
    "    if fit == 'quadratic':\n",
    "        poly = PolynomialFeatures(2)\n",
    "    \n",
    "    y_ests = np.zeros_like(Y,dtype=\"float64\")\n",
    "    \n",
    "    for i in range(0, cant):\n",
    "        distances = linalg.norm(data_norm - data_norm[i], ord=ord, axis=1)\n",
    "        indexes, max_dist = get_indexes(distances, q)\n",
    "        W = get_weights(distances[indexes], max_dist)\n",
    "        b = Y[indexes]\n",
    "        if fit=='quadratic':\n",
    "            A = poly.fit_transform(data_norm[indexes])\n",
    "        else:\n",
    "            A = np.append(np.ones((len(indexes),1)), data_norm[indexes], axis=1)\n",
    "            \n",
    "        At = np.transpose(A)\n",
    "        try:\n",
    "            coeffs = linalg.solve(np.dot(At, np.dot(W, A)), np.dot(At, np.dot(W, b)))\n",
    "        except:\n",
    "\n",
    "            U, E, Vt = linalg.svd(np.dot(W, A))\n",
    "            V = np.transpose(Vt)\n",
    "            Ut = np.transpose(U)\n",
    "            \n",
    "            Et = np.zeros((np.shape(V)[1], np.shape(Ut)[0]))\n",
    "            \n",
    "            for j in range(0, len(E)):\n",
    "                if E[j] != 0:\n",
    "                    Et[j,j] = 1/E[j]\n",
    "            \n",
    "            MPInv = np.dot(V, np.dot(Et, Ut))\n",
    "            coeffs = np.dot(MPInv, np.dot(W, b))\n",
    "        \n",
    "        if fit=='quadratic':\n",
    "            \n",
    "            y_est = np.dot(poly.fit_transform(data_norm[i].reshape(1, -1)),coeffs)\n",
    "        else:\n",
    "            y_est = np.dot(np.append([1.0], data_norm[i]), coeffs)\n",
    "        \n",
    "        y_ests[i] = y_est\n",
    "    \n",
    "    return y_ests"
   ]
  },
  {
   "cell_type": "code",
   "execution_count": 41,
   "metadata": {},
   "outputs": [],
   "source": [
    "data = pd.read_csv('../data/dataset.csv',usecols=['ozone', 'radiation', 'temperature', 'wind'])"
   ]
  },
  {
   "cell_type": "code",
   "execution_count": 47,
   "metadata": {},
   "outputs": [
    {
     "name": "stdout",
     "output_type": "stream",
     "text": [
      "[ 41.00109371  35.99706359  12.03397047  18.0020976   23.00166639\n",
      "  19.00123742   8.00167605  16.00085048  10.63323158  14.00293491\n",
      "  18.01129974  13.9992086   34.00105272   5.99686999  30.01421633\n",
      "  11.01033671   0.93346062  11.00009637   3.95322519  31.99988955\n",
      "  22.98091718  44.98769639 111.13648785  37.00087849  29.04711432\n",
      "  70.99689494  38.9470335   23.00041929  19.55893437  37.00024769\n",
      "  19.9999979   12.00893828  13.25282132 135.02088474  49.02427132\n",
      "  31.70896754  63.99960992  39.98904218  77.00226053  96.88681747\n",
      "  97.00000652  83.44505799  10.03237185  26.94891485   7.00001172\n",
      "  48.02200124  35.15649593  60.97444605  78.99997521  62.97671412\n",
      "  16.00633749  79.51860331 106.72556462  19.93064615  52.\n",
      "  83.7551075   50.0567536   66.3895108   58.95006554  38.13212472\n",
      "   9.00004024  16.16137744 121.0910266   88.76814633 110.0004877\n",
      "  43.99990361  27.49282791  64.99751232  21.97099924  59.00687306\n",
      "  22.98456853  32.38100487  42.20110407  20.75871909   8.98719219\n",
      "  44.9862452  167.93874173  74.0506661   76.00039722 117.99968045\n",
      "  84.00754824  85.05579263  96.00206701  77.99999889  73.01043645\n",
      "  90.99622841  46.99990716  31.99959832  19.2659553   23.08554758\n",
      "  20.97406509  23.99851472  44.04739647  21.391672    27.99275665\n",
      "   8.99924676  12.99838822  45.99968863  17.99968735  13.00603393\n",
      "  23.9752474   16.25881557  13.00887532  22.43185874  36.11971466\n",
      "   7.26850323  13.99687315  29.99084912  14.90890658  17.97812933\n",
      "  20.41041366]\n",
      "[ 41  36  12  18  23  19   8  16  11  14  18  14  34   6  30  11   1  11\n",
      "   4  32  23  45 115  37  29  71  39  23  21  37  20  12  13 135  49  32\n",
      "  64  40  77  97  97  85  10  27   7  48  35  61  79  63  16  80 108  20\n",
      "  52  82  50  64  59  39   9  16 122  89 110  44  28  65  22  59  23  31\n",
      "  44  21   9  45 168  73  76 118  84  85  96  78  73  91  47  32  20  23\n",
      "  21  24  44  21  28   9  13  46  18  13  24  16  13  23  36   7  14  30\n",
      "  14  18  20]\n"
     ]
    }
   ],
   "source": [
    "x=data[['radiation', 'temperature', 'wind']].to_numpy()\n",
    "y = data['ozone'].to_numpy()\n",
    "estimates = loess(x, y, 0.1, 'quadratic', 2)\n",
    "print(estimates)\n",
    "print(y)"
   ]
  },
  {
   "cell_type": "code",
   "execution_count": 56,
   "metadata": {},
   "outputs": [
    {
     "name": "stdout",
     "output_type": "stream",
     "text": [
      "radiation\n"
     ]
    },
    {
     "ename": "ValueError",
     "evalue": "scatter requires an x and y column",
     "output_type": "error",
     "traceback": [
      "\u001b[0;31m---------------------------------------------------------------------------\u001b[0m",
      "\u001b[0;31mValueError\u001b[0m                                Traceback (most recent call last)",
      "Input \u001b[0;32mIn [56]\u001b[0m, in \u001b[0;36m<cell line: 4>\u001b[0;34m()\u001b[0m\n\u001b[1;32m      1\u001b[0m cols \u001b[38;5;241m=\u001b[39m \u001b[38;5;28mlist\u001b[39m(data\u001b[38;5;241m.\u001b[39mcolumns)\n\u001b[1;32m      2\u001b[0m \u001b[38;5;28mprint\u001b[39m(cols[\u001b[38;5;241m1\u001b[39m])\n\u001b[0;32m----> 4\u001b[0m \u001b[43mdata\u001b[49m\u001b[38;5;241;43m.\u001b[39;49m\u001b[43mplot\u001b[49m\u001b[43m(\u001b[49m\u001b[43mkind\u001b[49m\u001b[38;5;241;43m=\u001b[39;49m\u001b[38;5;124;43m'\u001b[39;49m\u001b[38;5;124;43mscatter\u001b[39;49m\u001b[38;5;124;43m'\u001b[39;49m\u001b[43m,\u001b[49m\u001b[43m \u001b[49m\u001b[43msubplots\u001b[49m\u001b[38;5;241;43m=\u001b[39;49m\u001b[38;5;28;43;01mTrue\u001b[39;49;00m\u001b[43m,\u001b[49m\u001b[43m \u001b[49m\u001b[43msharey\u001b[49m\u001b[38;5;241;43m=\u001b[39;49m\u001b[38;5;28;43;01mTrue\u001b[39;49;00m\u001b[43m,\u001b[49m\u001b[43mlayout\u001b[49m\u001b[38;5;241;43m=\u001b[39;49m\u001b[43m(\u001b[49m\u001b[38;5;241;43m4\u001b[39;49m\u001b[43m,\u001b[49m\u001b[38;5;241;43m4\u001b[39;49m\u001b[43m)\u001b[49m\u001b[43m)\u001b[49m\n",
      "File \u001b[0;32m~/.virtualenvs/metnum-tp2/lib/python3.10/site-packages/pandas/plotting/_core.py:917\u001b[0m, in \u001b[0;36mPlotAccessor.__call__\u001b[0;34m(self, *args, **kwargs)\u001b[0m\n\u001b[1;32m    915\u001b[0m \u001b[38;5;28;01mif\u001b[39;00m kind \u001b[38;5;129;01min\u001b[39;00m \u001b[38;5;28mself\u001b[39m\u001b[38;5;241m.\u001b[39m_dataframe_kinds:\n\u001b[1;32m    916\u001b[0m     \u001b[38;5;28;01mif\u001b[39;00m \u001b[38;5;28misinstance\u001b[39m(data, ABCDataFrame):\n\u001b[0;32m--> 917\u001b[0m         \u001b[38;5;28;01mreturn\u001b[39;00m \u001b[43mplot_backend\u001b[49m\u001b[38;5;241;43m.\u001b[39;49m\u001b[43mplot\u001b[49m\u001b[43m(\u001b[49m\u001b[43mdata\u001b[49m\u001b[43m,\u001b[49m\u001b[43m \u001b[49m\u001b[43mx\u001b[49m\u001b[38;5;241;43m=\u001b[39;49m\u001b[43mx\u001b[49m\u001b[43m,\u001b[49m\u001b[43m \u001b[49m\u001b[43my\u001b[49m\u001b[38;5;241;43m=\u001b[39;49m\u001b[43my\u001b[49m\u001b[43m,\u001b[49m\u001b[43m \u001b[49m\u001b[43mkind\u001b[49m\u001b[38;5;241;43m=\u001b[39;49m\u001b[43mkind\u001b[49m\u001b[43m,\u001b[49m\u001b[43m \u001b[49m\u001b[38;5;241;43m*\u001b[39;49m\u001b[38;5;241;43m*\u001b[39;49m\u001b[43mkwargs\u001b[49m\u001b[43m)\u001b[49m\n\u001b[1;32m    918\u001b[0m     \u001b[38;5;28;01melse\u001b[39;00m:\n\u001b[1;32m    919\u001b[0m         \u001b[38;5;28;01mraise\u001b[39;00m \u001b[38;5;167;01mValueError\u001b[39;00m(\u001b[38;5;124mf\u001b[39m\u001b[38;5;124m\"\u001b[39m\u001b[38;5;124mplot kind \u001b[39m\u001b[38;5;132;01m{\u001b[39;00mkind\u001b[38;5;132;01m}\u001b[39;00m\u001b[38;5;124m can only be used for data frames\u001b[39m\u001b[38;5;124m\"\u001b[39m)\n",
      "File \u001b[0;32m~/.virtualenvs/metnum-tp2/lib/python3.10/site-packages/pandas/plotting/_matplotlib/__init__.py:70\u001b[0m, in \u001b[0;36mplot\u001b[0;34m(data, kind, **kwargs)\u001b[0m\n\u001b[1;32m     68\u001b[0m             ax \u001b[38;5;241m=\u001b[39m plt\u001b[38;5;241m.\u001b[39mgca()\n\u001b[1;32m     69\u001b[0m         kwargs[\u001b[38;5;124m\"\u001b[39m\u001b[38;5;124max\u001b[39m\u001b[38;5;124m\"\u001b[39m] \u001b[38;5;241m=\u001b[39m \u001b[38;5;28mgetattr\u001b[39m(ax, \u001b[38;5;124m\"\u001b[39m\u001b[38;5;124mleft_ax\u001b[39m\u001b[38;5;124m\"\u001b[39m, ax)\n\u001b[0;32m---> 70\u001b[0m plot_obj \u001b[38;5;241m=\u001b[39m \u001b[43mPLOT_CLASSES\u001b[49m\u001b[43m[\u001b[49m\u001b[43mkind\u001b[49m\u001b[43m]\u001b[49m\u001b[43m(\u001b[49m\u001b[43mdata\u001b[49m\u001b[43m,\u001b[49m\u001b[43m \u001b[49m\u001b[38;5;241;43m*\u001b[39;49m\u001b[38;5;241;43m*\u001b[39;49m\u001b[43mkwargs\u001b[49m\u001b[43m)\u001b[49m\n\u001b[1;32m     71\u001b[0m plot_obj\u001b[38;5;241m.\u001b[39mgenerate()\n\u001b[1;32m     72\u001b[0m plot_obj\u001b[38;5;241m.\u001b[39mdraw()\n",
      "File \u001b[0;32m~/.virtualenvs/metnum-tp2/lib/python3.10/site-packages/pandas/plotting/_matplotlib/core.py:1065\u001b[0m, in \u001b[0;36mScatterPlot.__init__\u001b[0;34m(self, data, x, y, s, c, **kwargs)\u001b[0m\n\u001b[1;32m   1063\u001b[0m \u001b[38;5;28;01melif\u001b[39;00m is_hashable(s) \u001b[38;5;129;01mand\u001b[39;00m s \u001b[38;5;129;01min\u001b[39;00m data\u001b[38;5;241m.\u001b[39mcolumns:\n\u001b[1;32m   1064\u001b[0m     s \u001b[38;5;241m=\u001b[39m data[s]\n\u001b[0;32m-> 1065\u001b[0m \u001b[38;5;28;43msuper\u001b[39;49m\u001b[43m(\u001b[49m\u001b[43m)\u001b[49m\u001b[38;5;241;43m.\u001b[39;49m\u001b[38;5;21;43m__init__\u001b[39;49m\u001b[43m(\u001b[49m\u001b[43mdata\u001b[49m\u001b[43m,\u001b[49m\u001b[43m \u001b[49m\u001b[43mx\u001b[49m\u001b[43m,\u001b[49m\u001b[43m \u001b[49m\u001b[43my\u001b[49m\u001b[43m,\u001b[49m\u001b[43m \u001b[49m\u001b[43ms\u001b[49m\u001b[38;5;241;43m=\u001b[39;49m\u001b[43ms\u001b[49m\u001b[43m,\u001b[49m\u001b[43m \u001b[49m\u001b[38;5;241;43m*\u001b[39;49m\u001b[38;5;241;43m*\u001b[39;49m\u001b[43mkwargs\u001b[49m\u001b[43m)\u001b[49m\n\u001b[1;32m   1066\u001b[0m \u001b[38;5;28;01mif\u001b[39;00m is_integer(c) \u001b[38;5;129;01mand\u001b[39;00m \u001b[38;5;129;01mnot\u001b[39;00m \u001b[38;5;28mself\u001b[39m\u001b[38;5;241m.\u001b[39mdata\u001b[38;5;241m.\u001b[39mcolumns\u001b[38;5;241m.\u001b[39mholds_integer():\n\u001b[1;32m   1067\u001b[0m     c \u001b[38;5;241m=\u001b[39m \u001b[38;5;28mself\u001b[39m\u001b[38;5;241m.\u001b[39mdata\u001b[38;5;241m.\u001b[39mcolumns[c]\n",
      "File \u001b[0;32m~/.virtualenvs/metnum-tp2/lib/python3.10/site-packages/pandas/plotting/_matplotlib/core.py:986\u001b[0m, in \u001b[0;36mPlanePlot.__init__\u001b[0;34m(self, data, x, y, **kwargs)\u001b[0m\n\u001b[1;32m    984\u001b[0m MPLPlot\u001b[38;5;241m.\u001b[39m\u001b[38;5;21m__init__\u001b[39m(\u001b[38;5;28mself\u001b[39m, data, \u001b[38;5;241m*\u001b[39m\u001b[38;5;241m*\u001b[39mkwargs)\n\u001b[1;32m    985\u001b[0m \u001b[38;5;28;01mif\u001b[39;00m x \u001b[38;5;129;01mis\u001b[39;00m \u001b[38;5;28;01mNone\u001b[39;00m \u001b[38;5;129;01mor\u001b[39;00m y \u001b[38;5;129;01mis\u001b[39;00m \u001b[38;5;28;01mNone\u001b[39;00m:\n\u001b[0;32m--> 986\u001b[0m     \u001b[38;5;28;01mraise\u001b[39;00m \u001b[38;5;167;01mValueError\u001b[39;00m(\u001b[38;5;28mself\u001b[39m\u001b[38;5;241m.\u001b[39m_kind \u001b[38;5;241m+\u001b[39m \u001b[38;5;124m\"\u001b[39m\u001b[38;5;124m requires an x and y column\u001b[39m\u001b[38;5;124m\"\u001b[39m)\n\u001b[1;32m    987\u001b[0m \u001b[38;5;28;01mif\u001b[39;00m is_integer(x) \u001b[38;5;129;01mand\u001b[39;00m \u001b[38;5;129;01mnot\u001b[39;00m \u001b[38;5;28mself\u001b[39m\u001b[38;5;241m.\u001b[39mdata\u001b[38;5;241m.\u001b[39mcolumns\u001b[38;5;241m.\u001b[39mholds_integer():\n\u001b[1;32m    988\u001b[0m     x \u001b[38;5;241m=\u001b[39m \u001b[38;5;28mself\u001b[39m\u001b[38;5;241m.\u001b[39mdata\u001b[38;5;241m.\u001b[39mcolumns[x]\n",
      "\u001b[0;31mValueError\u001b[0m: scatter requires an x and y column"
     ]
    }
   ],
   "source": [
    "cols = list(data.columns)\n",
    "fig, axs = plt.subplots(4,4,sharex='all', sharey='all')\n",
    "for i in range(0,4):\n",
    "    for j in range(0,4)\n",
    "        data.plot(kind='scatter', subplots=True, sharey=True,layout=(4,4))"
   ]
  },
  {
   "cell_type": "code",
   "execution_count": null,
   "metadata": {},
   "outputs": [],
   "source": []
  }
 ],
 "metadata": {
  "interpreter": {
   "hash": "3eb2b664b51bbe16cd265cde49c165a10ee00e784d221a0f32d6941745607379"
  },
  "kernelspec": {
   "display_name": "Python 3 (ipykernel)",
   "language": "python",
   "name": "python3"
  },
  "language_info": {
   "codemirror_mode": {
    "name": "ipython",
    "version": 3
   },
   "file_extension": ".py",
   "mimetype": "text/x-python",
   "name": "python",
   "nbconvert_exporter": "python",
   "pygments_lexer": "ipython3",
   "version": "3.10.4"
  }
 },
 "nbformat": 4,
 "nbformat_minor": 2
}
