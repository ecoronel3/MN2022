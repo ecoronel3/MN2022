{
 "cells": [
  {
   "cell_type": "code",
   "execution_count": 1,
   "metadata": {},
   "outputs": [],
   "source": [
    "import tp3\n",
    "import pandas as pd\n",
    "import numpy.linalg as linalg\n",
    "from sklearn.preprocessing import PolynomialFeatures\n"
   ]
  },
  {
   "cell_type": "code",
   "execution_count": 2,
   "metadata": {},
   "outputs": [],
   "source": [
    "data = pd.read_csv('../data/dataset.csv',usecols=['ozone', 'radiation', 'temperature', 'wind'])"
   ]
  },
  {
   "cell_type": "code",
   "execution_count": 3,
   "metadata": {},
   "outputs": [
    {
     "name": "stdout",
     "output_type": "stream",
     "text": [
      "[ 41  35  12  17  23  19   7  16  11  14  18  13  33   6  29  11   0  10\n",
      "   3  31  22  44 114  36  28  70  39  23  21  37  19  11  12 135  48  32\n",
      "  64  40  76  97  97  84   9  27   6  48  35  60  79  63  15  79 107  20\n",
      "  52  82  49  64  58  39   8  15 121  88 110  43  28  65  22  58  22  30\n",
      "  43  20   9  45 168  73  76 117  83  84  96  77  73  91  46  32  19  23\n",
      "  20  23  43  21  28   9  13  46  17  12  24  16  13  23  36   6  13  29\n",
      "  14  18  19]\n",
      "[ 41  36  12  18  23  19   8  16  11  14  18  14  34   6  30  11   1  11\n",
      "   4  32  23  45 115  37  29  71  39  23  21  37  20  12  13 135  49  32\n",
      "  64  40  77  97  97  85  10  27   7  48  35  61  79  63  16  80 108  20\n",
      "  52  82  50  64  59  39   9  16 122  89 110  44  28  65  22  59  23  31\n",
      "  44  21   9  45 168  73  76 118  84  85  96  78  73  91  47  32  20  23\n",
      "  21  24  44  21  28   9  13  46  18  13  24  16  13  23  36   7  14  30\n",
      "  14  18  20]\n"
     ]
    }
   ],
   "source": [
    "x=data[['radiation', 'temperature', 'wind']].to_numpy()\n",
    "y = data['ozone'].to_numpy()\n",
    "estimates = tp3.loess(x, y, 0.1, 'quadratic')\n",
    "print(estimates)\n",
    "print(y)"
   ]
  },
  {
   "cell_type": "code",
   "execution_count": 4,
   "metadata": {},
   "outputs": [
    {
     "name": "stdout",
     "output_type": "stream",
     "text": [
      "[0.         0.967492   1.70367235 1.85854871 1.2657361  2.23148963\n",
      " 4.09866869 0.99742638 1.2180685  1.35788406 2.3403565  1.98932047\n",
      " 1.83280159 3.50328139 1.86179189 1.81327531 2.27054263 3.0322614\n",
      " 2.03170633 1.80330836 2.34316376 2.66931741 1.40086689 1.36454344\n",
      " 1.84481882 3.22168809 2.81632429 1.65615648 2.3647165  3.92954628\n",
      " 1.7735662  1.52778199 1.38240409 2.21129598 2.06556483 1.64097546\n",
      " 1.8698157  2.38486356 2.49389394 2.78581027 2.82685584 2.32486081\n",
      " 2.20397199 2.58567795 2.84940045 1.67115002 2.0066885  2.09845183\n",
      " 2.20608615 2.24683012 2.15210626 2.33223456 1.93929116 2.01434502\n",
      " 2.66704575 2.22803317 2.21099259 1.82384484 1.71267921 1.89423173\n",
      " 2.96430657 2.01264191 2.60990498 2.59466288 2.43750183 2.31312094\n",
      " 2.16232079 1.55928666 1.87105309 2.01068862 1.25822542 1.63534433\n",
      " 1.41926883 2.62974667 2.63638168 1.44226446 1.93185138 2.02869397\n",
      " 3.23135781 3.21254585 3.11590937 2.8629845  2.54637208 2.71507191\n",
      " 3.03354864 2.85229089 2.35380971 3.09898326 1.82219013 1.45726744\n",
      " 1.37157039 1.1830442  2.62971311 2.58929747 1.21954442 2.12137279\n",
      " 1.50189772 1.27773571 1.84475615 2.19013159 0.98022504 1.59477681\n",
      " 1.59176894 2.04887142 1.77863077 1.7688663  3.22951757 0.34785747\n",
      " 2.12218318 1.16250602 1.21753635]\n"
     ]
    }
   ],
   "source": [
    "normalized = tp3.normalize(x)\n",
    "distances = linalg.norm(normalized - normalized[0], ord=2, axis=1)\n",
    "print(distances)"
   ]
  },
  {
   "cell_type": "code",
   "execution_count": 6,
   "metadata": {},
   "outputs": [],
   "source": [
    "indexes, max_dist = tp3.get_indexes(distances, 2)"
   ]
  },
  {
   "cell_type": "code",
   "execution_count": 7,
   "metadata": {},
   "outputs": [
    {
     "data": {
      "text/plain": [
       "array([0.34785747, 0.        ])"
      ]
     },
     "execution_count": 7,
     "metadata": {},
     "output_type": "execute_result"
    }
   ],
   "source": [
    "distances[indexes]"
   ]
  },
  {
   "cell_type": "code",
   "execution_count": 8,
   "metadata": {},
   "outputs": [
    {
     "name": "stdout",
     "output_type": "stream",
     "text": [
      "1.0\n"
     ]
    }
   ],
   "source": [
    "print(distances[indexes[0]]/max_dist)"
   ]
  },
  {
   "cell_type": "code",
   "execution_count": 9,
   "metadata": {},
   "outputs": [
    {
     "data": {
      "text/plain": [
       "array([[0., 0.],\n",
       "       [0., 1.]])"
      ]
     },
     "execution_count": 9,
     "metadata": {},
     "output_type": "execute_result"
    }
   ],
   "source": [
    "tp3.get_weights(distances[indexes], max_dist)"
   ]
  },
  {
   "cell_type": "code",
   "execution_count": 10,
   "metadata": {},
   "outputs": [
    {
     "name": "stdout",
     "output_type": "stream",
     "text": [
      "[[1.0000e+00 1.9300e+02 7.0000e+01 6.9000e+00 3.7249e+04 1.3510e+04\n",
      "  1.3317e+03 4.9000e+03 4.8300e+02 4.7610e+01]\n",
      " [1.0000e+00 1.9000e+02 6.7000e+01 7.4000e+00 3.6100e+04 1.2730e+04\n",
      "  1.4060e+03 4.4890e+03 4.9580e+02 5.4760e+01]]\n"
     ]
    }
   ],
   "source": [
    "poly = PolynomialFeatures(2)\n",
    "print(poly.fit_transform(x[indexes]))"
   ]
  }
 ],
 "metadata": {
  "kernelspec": {
   "display_name": "Python 3.10.4 ('mntp3')",
   "language": "python",
   "name": "python3"
  },
  "language_info": {
   "codemirror_mode": {
    "name": "ipython",
    "version": 3
   },
   "file_extension": ".py",
   "mimetype": "text/x-python",
   "name": "python",
   "nbconvert_exporter": "python",
   "pygments_lexer": "ipython3",
   "version": "3.10.4"
  },
  "vscode": {
   "interpreter": {
    "hash": "1b4e966baf9b7e27a993fc4f0407dc4be5276096611e6f123354a0c3240889cf"
   }
  }
 },
 "nbformat": 4,
 "nbformat_minor": 2
}
