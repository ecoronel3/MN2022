{
 "cells": [
  {
   "cell_type": "code",
   "execution_count": 1,
   "metadata": {},
   "outputs": [],
   "source": [
    "import numpy as np\n",
    "import math\n",
    "import numpy.linalg as linalg\n",
    "import pandas as pd\n",
    "from matplotlib import pyplot\n",
    "import sklearn as skl\n",
    "from sklearn.preprocessing import PolynomialFeatures\n",
    "import heapq\n"
   ]
  },
  {
   "cell_type": "code",
   "execution_count": 2,
   "metadata": {},
   "outputs": [],
   "source": [
    "def tricubic(x):\n",
    "    y = np.zeros_like(x)\n",
    "    idx = (x >= 0) & (x <= 1)\n",
    "    y[idx] = np.power(1.0 - np.power(np.abs(x[idx]), 3), 3)\n",
    "    return y"
   ]
  },
  {
   "cell_type": "code",
   "execution_count": 3,
   "metadata": {},
   "outputs": [],
   "source": [
    "def normalize(array):\n",
    "    stds = array.std(axis=0)\n",
    "    \n",
    "    return (array- array.mean(axis=0))/stds"
   ]
  },
  {
   "cell_type": "code",
   "execution_count": 4,
   "metadata": {},
   "outputs": [],
   "source": [
    "def get_indexes(distances, q):\n",
    "    mins = []\n",
    "    for i in range(0, len(distances)):\n",
    "        if len(mins) >= q:\n",
    "            if mins[0][0] < -1*distances[i]:\n",
    "                heapq.heapreplace(mins, (-1*distances[i], i))\n",
    "        else:\n",
    "            heapq.heappush(mins, (-1*distances[i], i))\n",
    "\n",
    "    indexes = []\n",
    "    max_dist = 0.0\n",
    "    for (dist, index) in mins:\n",
    "        indexes.append(index)\n",
    "        if -1*dist > max_dist:\n",
    "            max_dist = -1*dist\n",
    "    return indexes, max_dist"
   ]
  },
  {
   "cell_type": "code",
   "execution_count": 5,
   "metadata": {},
   "outputs": [],
   "source": [
    "def get_weights(distances, max_dist):\n",
    "    weights = tricubic(distances/max_dist)\n",
    "    return np.diag(weights)"
   ]
  },
  {
   "cell_type": "code",
   "execution_count": 67,
   "metadata": {},
   "outputs": [],
   "source": [
    "def loess(data, Y, f=0.1, fit='quadratic', ord=2):\n",
    "    cant = len(Y)\n",
    "    q = int(math.ceil(f*cant))\n",
    "    data_norm = normalize(data)\n",
    "    if fit == 'quadratic':\n",
    "        poly = PolynomialFeatures(2)\n",
    "    \n",
    "    y_ests = np.zeros_like(Y)\n",
    "    \n",
    "    for i in range(0, cant):\n",
    "        distances = linalg.norm(data_norm - data_norm[i], ord=ord, axis=1)\n",
    "        indexes, max_dist = get_indexes(distances, q)\n",
    "        W = get_weights(distances[indexes], max_dist)\n",
    "        b = Y[indexes]\n",
    "        if fit=='quadratic':\n",
    "            A = poly.fit_transform(data_norm[indexes])\n",
    "        else:\n",
    "            A = np.append(np.ones((len(indexes),1)), data_norm[indexes], axis=1)\n",
    "            \n",
    "        At = np.transpose(A)\n",
    "        try:\n",
    "            coeffs = linalg.solve(np.dot(At, np.dot(W, A)), np.dot(At, np.dot(W, b)))\n",
    "        except:\n",
    "\n",
    "            U, E, Vt = linalg.svd(np.dot(W, A))\n",
    "            V = np.transpose(Vt)\n",
    "            Ut = np.transpose(U)\n",
    "            \n",
    "            Et = np.zeros((np.shape(V)[1], np.shape(Ut)[0]))\n",
    "            \n",
    "            for j in range(0, len(E)):\n",
    "                if E[j] != 0:\n",
    "                    Et[j,j] = 1/E[j]\n",
    "            \n",
    "            MPInv = np.dot(V, np.dot(Et, Ut))\n",
    "            coeffs = np.dot(MPInv, np.dot(W, b))\n",
    "        \n",
    "        if fit=='quadratic':\n",
    "            \n",
    "            y_est = np.dot(poly.fit_transform(data_norm[i].reshape(1, -1)),coeffs)\n",
    "        else:\n",
    "            y_est = np.dot(np.append([1.0], data_norm[i]), coeffs)\n",
    "        \n",
    "        y_ests[i] = y_est\n",
    "    \n",
    "    return y_ests"
   ]
  },
  {
   "cell_type": "code",
   "execution_count": 68,
   "metadata": {},
   "outputs": [],
   "source": [
    "data = pd.read_csv('../data/dataset.csv',usecols=['ozone', 'radiation', 'temperature', 'wind'])"
   ]
  },
  {
   "cell_type": "code",
   "execution_count": 69,
   "metadata": {},
   "outputs": [
    {
     "name": "stdout",
     "output_type": "stream",
     "text": [
      "[ 41  36  11  17  23  18   8  16  10  14  17  14  33   5  30  11   0  10\n",
      "   4  31  22  44 115  37  29  71  38  23  21  36  19  11  13 134  48  31\n",
      "  63  40  77  97  96  85   9  26   6  48  35  60  79  62  15  80 108  19\n",
      "  51  81  49  63  58  38   9  15 121  89 110  44  28  65  21  59  22  31\n",
      "  44  20   9  44 167  72  76 118  84  85  96  77  73  91  46  31  20  23\n",
      "  21  24  43  21  27   9  12  45  18  12  23  16  12  22  36   7  13  30\n",
      "  14  18  20]\n",
      "[ 41  36  12  18  23  19   8  16  11  14  18  14  34   6  30  11   1  11\n",
      "   4  32  23  45 115  37  29  71  39  23  21  37  20  12  13 135  49  32\n",
      "  64  40  77  97  97  85  10  27   7  48  35  61  79  63  16  80 108  20\n",
      "  52  82  50  64  59  39   9  16 122  89 110  44  28  65  22  59  23  31\n",
      "  44  21   9  45 168  73  76 118  84  85  96  78  73  91  47  32  20  23\n",
      "  21  24  44  21  28   9  13  46  18  13  24  16  13  23  36   7  14  30\n",
      "  14  18  20]\n"
     ]
    }
   ],
   "source": [
    "x=data[['radiation', 'temperature', 'wind']].to_numpy()\n",
    "y = data['ozone'].to_numpy()\n",
    "estimates = loess(x, y, 0.06, 'quadratic', 2)\n",
    "print(estimates)\n",
    "print(y)"
   ]
  },
  {
   "cell_type": "code",
   "execution_count": null,
   "metadata": {},
   "outputs": [],
   "source": []
  },
  {
   "cell_type": "code",
   "execution_count": null,
   "metadata": {},
   "outputs": [],
   "source": []
  }
 ],
 "metadata": {
  "interpreter": {
   "hash": "3eb2b664b51bbe16cd265cde49c165a10ee00e784d221a0f32d6941745607379"
  },
  "kernelspec": {
   "display_name": "Python 3 (ipykernel)",
   "language": "python",
   "name": "python3"
  },
  "language_info": {
   "codemirror_mode": {
    "name": "ipython",
    "version": 3
   },
   "file_extension": ".py",
   "mimetype": "text/x-python",
   "name": "python",
   "nbconvert_exporter": "python",
   "pygments_lexer": "ipython3",
   "version": "3.10.4"
  }
 },
 "nbformat": 4,
 "nbformat_minor": 2
}
