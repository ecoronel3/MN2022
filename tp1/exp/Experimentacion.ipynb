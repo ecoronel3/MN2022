{
 "cells": [
  {
   "cell_type": "code",
   "execution_count": 1,
   "metadata": {},
   "outputs": [],
   "source": [
    "import numpy as num\n",
    "from scipy.stats import norm\n",
    "#from matplotlib import pyplot as mpl, cm\n",
    "import math as math\n",
    "#from copy import deepcopy\n",
    "#from scipy.spatial import distance_matrix\n",
    "#num.set_printoptions(suppress=True)"
   ]
  },
  {
   "cell_type": "code",
   "execution_count": 31,
   "metadata": {},
   "outputs": [],
   "source": [
    "def genInstancesNormales(ri=2, re=4, m=10, n=10, iso=500.0, ninst=1, ti=1500.0, te=50.0, \n",
    "                 file=\"./entradas/entrada1.txt\", internalNoise=0.1, externalNoise=0.1):\n",
    "    f = open(file,'w',encoding = 'utf-8')\n",
    "    f.write(\"{0:.1f} {1:.1f} {2:} {3:} {4:.1f} {5:}\\n\".format(ri, re, m+1, n, iso, ninst))\n",
    "    \n",
    "    for insta in range(0, ninst):\n",
    "        internalTemps = num.full(n, ti)\n",
    "        internalTemps += num.random.normal(0,internalNoise,n)\n",
    "        \n",
    "        externalTemps = num.full(n, te)\n",
    "        externalTemps += num.random.normal(0,externalNoise,n)    \n",
    "        \n",
    "        f.write(' '.join([\"{:.2f}\".format(elem) for elem in internalTemps]))\n",
    "        f.write(' ')\n",
    "        f.write(' '.join([\"{:.2f}\".format(elem) for elem in externalTemps]))\n",
    "        f.write('\\n')\n",
    "    f.close()"
   ]
  },
  {
   "cell_type": "code",
   "execution_count": 32,
   "metadata": {},
   "outputs": [],
   "source": [
    "genInstancesNormales()"
   ]
  },
  {
   "cell_type": "code",
   "execution_count": 33,
   "metadata": {},
   "outputs": [],
   "source": [
    "def genInstancesPeligrosas(ri=2, re=4, m=10, n=10, iso=500.0, ninst=1, ti=1500.0, te=50.0, file=\"./entradas/entrada1.txt\", \n",
    "                           internalNoise=0.1, externalNoise=0.1, multDeformacion=100):\n",
    "    f = open(file,'w',encoding = 'utf-8')\n",
    "    \n",
    "    f.write(\"{0:.1f} {1:.1f} {2:} {3:} {4:.1f} {5:}\\n\".format(ri, re, m+1, n, iso, ninst))\n",
    "    \n",
    "    for insta in range(0, ninst):\n",
    "        internalTemps = num.full(n, ti)\n",
    "        internalTemps += num.random.normal(0,internalNoise,n)\n",
    "        \n",
    "        externalTemps = num.full(n, te)\n",
    "        externalTemps += num.random.normal(0,externalNoise,n)\n",
    "        x = num.linspace(-4,4,n)\n",
    "        externalTemps += norm.pdf(x, 0, 1)*multDeformacion\n",
    "        print(externalTemps)\n",
    "        \n",
    "        f.write(' '.join([\"{:.2f}\".format(elem) for elem in internalTemps]))\n",
    "        f.write(' ')\n",
    "        f.write(' '.join([\"{:.2f}\".format(elem) for elem in externalTemps]))\n",
    "        f.write('\\n')\n",
    "    f.close()\n"
   ]
  },
  {
   "cell_type": "code",
   "execution_count": 34,
   "metadata": {},
   "outputs": [
    {
     "name": "stdout",
     "output_type": "stream",
     "text": [
      "[50.09955979 50.40935274 53.45964423 66.33124053 86.06937359 86.12889221\n",
      " 66.51353537 53.41606534 50.25483506 50.06852978]\n"
     ]
    }
   ],
   "source": [
    "genInstancesPeligrosas()"
   ]
  },
  {
   "cell_type": "code",
   "execution_count": 2,
   "metadata": {},
   "outputs": [],
   "source": [
    "def linSepInstances(means=[[1,1],[-1,-1]], sigmas=[0.4,0.4], Ns=[100,100]):\n",
    "    D=len(means[0])\n",
    "\n",
    "    data = num.random.multivariate_normal(means[0], (sigmas[0]**2)*num.identity(D),Ns[0])\n",
    "    data = num.append(data, num.random.multivariate_normal(means[1], (sigmas[1]**2)*num.identity(D),Ns[1]),axis=0)\n",
    "    targets = num.append(num.ones((Ns[0],1)), num.ones((Ns[1],1))*-1, axis=0)\n",
    "    data = num.append(data,targets,axis=1)\n",
    "    num.random.shuffle(data)\n",
    "    return data[:, 0:D], data[:,D:D+1]\n"
   ]
  },
  {
   "cell_type": "code",
   "execution_count": 3,
   "metadata": {},
   "outputs": [],
   "source": [
    "def makeCircle(r=1, c=[0,0], sigma=0.1, N=100, D=2):\n",
    "    noise = num.random.multivariate_normal(num.zeros(D), (sigma**2)*num.identity(D),N)\n",
    "    data = num.random.uniform(-r,r,(N,1))\n",
    "    data = num.append(data, num.random.choice([1,-1], (N,1)) * num.sqrt(r**2 - num.square(data)), axis=1)\n",
    "    data = data + noise + c\n",
    "    return data\n",
    "\n",
    "def nonSepInstances(rs=[0.5, 1.2], cs=[[0,0], [0,0]], sigmas=[0.1,0.1], Ns= [100,100]):\n",
    "    D = len(cs[0])\n",
    "    data = makeCircle(rs[0], cs[0], sigmas[0], Ns[0], D=D)\n",
    "    data = num.append(data, makeCircle(rs[1], cs[1], sigmas[1], Ns[1], D=D), axis=0)\n",
    "    data = num.append(data, num.append(num.ones((Ns[0],1)), (-1)*num.ones((Ns[1],1)), axis=0), axis=1)\n",
    "    num.random.shuffle(data)\n",
    "    \n",
    "    return data[:,0:D], data[:,D:D+1]\n"
   ]
  },
  {
   "cell_type": "markdown",
   "metadata": {},
   "source": [
    "### Generacion de casos para evaluar la performance en tiempo de los métodos EG vs LU."
   ]
  },
  {
   "cell_type": "code",
   "execution_count": 9,
   "metadata": {},
   "outputs": [],
   "source": [
    "for n in range(2, 10):\n",
    "    for m in range(3, 10):\n",
    "        archivo='./testEGvsLU/file_n' + str(n) + '_m' + str(m) + '.in'\n",
    "        genInstancesNormales(ri=4, re=6, m=m, n=n, iso=500, ninst=1, ti=1500.0, te=50.0, externalNoise=5.0, file=archivo )\n"
   ]
  }
 ],
 "metadata": {
  "kernelspec": {
   "display_name": "Python 3",
   "language": "python",
   "name": "python3"
  },
  "language_info": {
   "codemirror_mode": {
    "name": "ipython",
    "version": 3
   },
   "file_extension": ".py",
   "mimetype": "text/x-python",
   "name": "python",
   "nbconvert_exporter": "python",
   "pygments_lexer": "ipython3",
   "version": "3.10.4"
  }
 },
 "nbformat": 4,
 "nbformat_minor": 4
}
