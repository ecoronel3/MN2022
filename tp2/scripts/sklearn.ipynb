{
 "cells": [
  {
   "cell_type": "markdown",
   "metadata": {},
   "source": [
    "Cargamos los modulos que necesitamos."
   ]
  },
  {
   "cell_type": "code",
   "execution_count": null,
   "metadata": {},
   "outputs": [],
   "source": [
    "import numpy as np\n",
    "from matplotlib import pyplot\n",
    "import sklearn as skl\n",
    "import sklearn.pipeline as sklpipilne\n",
    "import sklearn.model_selection as sklms\n",
    "import sklearn.decomposition as skldeco\n",
    "import sklearn.neighbors as skln\n",
    "\n",
    "import sys\n",
    "sys.path.append('..\\install\\lib')\n",
    "import mnpy as mn\n",
    "\n",
    "import reader\n",
    "import metnum"
   ]
  },
  {
   "cell_type": "markdown",
   "metadata": {},
   "source": [
    "Ahora debemos cargar la data con la que vamos a trabajar."
   ]
  },
  {
   "cell_type": "code",
   "execution_count": null,
   "metadata": {},
   "outputs": [],
   "source": [
    "df = reader.read7Zip('../data/train.7z')\n",
    "targets = df['label'].to_numpy()\n",
    "# la primer columna es el label, el resto son los 28*28 pixeles de cada imagen\n",
    "images = df.iloc[:, 1:].to_numpy()\n",
    "\n",
    "cols = 10\n",
    "rows = 4\n",
    "samples = rows*cols\n",
    "titles = [\"Dígito %d\" % digit for digit in targets[0:samples] ]\n",
    "metnum.plot_gallery(images[0:samples], titles, 28, 28, rows, cols)\n",
    "pyplot.show()\n"
   ]
  },
  {
   "cell_type": "markdown",
   "metadata": {},
   "source": [
    "Configuramos el pipeline con PCA como estimator y knn como scorer"
   ]
  },
  {
   "cell_type": "code",
   "execution_count": null,
   "metadata": {},
   "outputs": [],
   "source": [
    "training_dataset = images[0:10000]\n",
    "training_targets = targets[0:10000]\n",
    "\n",
    "# estimators = [(\"pca\", mn.PCA()), (\"knn\", skln.KNeighborsClassifier())]\n",
    "estimators = [(\"pca\", mn.PCA()), (\"knn\", mn.kNNClassifier())]\n",
    "pipeline = sklpipilne.Pipeline(estimators)\n",
    "\n",
    "param_grid = [\n",
    "    {\n",
    "        # PCA parameters\n",
    "        'pca__n_components': [24],\n",
    "        'pca__iterated_power': [128],\n",
    "        'pca__tolerance_error': [0.0001],\n",
    "\n",
    "        # KNN parameters\n",
    "        'knn__k_neighbors': [3, 4],\n",
    "        'knn__distance_metric': [mn.DistanceMetric.Euclidean, mn.DistanceMetric.Manhattan, mn.DistanceMetric.Chebyshev],\n",
    "        # 'knn__weights': [mn.Weights.Uniform, mn.Weights.Distance],\n",
    "    },\n",
    "]\n",
    "\n",
    "# kfold = sklms.KFold(n_splits=10, shuffle=True)\n",
    "kfold = sklms.KFold(n_splits=10)\n",
    "\n",
    "grid_search = sklms.GridSearchCV(estimator=pipeline, cv=kfold, param_grid=param_grid, n_jobs=8)\n",
    "grid_search.fit(X=training_dataset, y=training_targets)\n",
    "print(grid_search.best_params_)\n"
   ]
  },
  {
   "cell_type": "markdown",
   "metadata": {},
   "source": [
    "Momento de graficar"
   ]
  },
  {
   "cell_type": "code",
   "execution_count": null,
   "metadata": {},
   "outputs": [],
   "source": [
    "def graph_config(legends, results):\n",
    "    old_n_neighbors = legends[0]['knn__k_neighbors']\n",
    "    set_of_lists_with_results = []\n",
    "    list_with_results = []\n",
    "    graph_names = []\n",
    "    for index, legend in enumerate(legends):\n",
    "        new_n_neighbors = legend['knn__k_neighbors']\n",
    "\n",
    "        if new_n_neighbors == old_n_neighbors:\n",
    "            list_with_results.append(results[index])\n",
    "        else:\n",
    "            graph_names.append(old_n_neighbors)\n",
    "            set_of_lists_with_results.append(list_with_results)\n",
    "            list_with_results = [results[index]]\n",
    "            old_n_neighbors = new_n_neighbors\n",
    "    graph_names.append(new_n_neighbors)\n",
    "    set_of_lists_with_results.append(list_with_results)\n",
    "    return graph_names, set_of_lists_with_results"
   ]
  },
  {
   "cell_type": "code",
   "execution_count": null,
   "metadata": {},
   "outputs": [],
   "source": [
    "results = grid_search.cv_results_['mean_test_score']\n",
    "legends = grid_search.cv_results_['params']\n",
    "\n",
    "best_params = grid_search.best_params_\n",
    "best_k_neighbors = best_params['knn__k_neighbors']\n",
    "best_n_components = best_params['pca__n_components']\n",
    "\n",
    "graph_names, set_of_lists_with_results = graph_config(legends, results)\n",
    "#print(best_params)\n",
    "# print(max(results))\n",
    "print(legends)\n",
    "print(results)\n",
    "\n"
   ]
  }
 ],
 "metadata": {
  "interpreter": {
   "hash": "3eb2b664b51bbe16cd265cde49c165a10ee00e784d221a0f32d6941745607379"
  },
  "kernelspec": {
   "display_name": "Python 3.10.4 ('mntp')",
   "language": "python",
   "name": "python3"
  },
  "language_info": {
   "codemirror_mode": {
    "name": "ipython",
    "version": 3
   },
   "file_extension": ".py",
   "mimetype": "text/x-python",
   "name": "python",
   "nbconvert_exporter": "python",
   "pygments_lexer": "ipython3",
   "version": "3.10.4"
  },
  "orig_nbformat": 4
 },
 "nbformat": 4,
 "nbformat_minor": 2
}
