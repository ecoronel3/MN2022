{
 "cells": [
  {
   "cell_type": "code",
   "execution_count": 5,
   "metadata": {},
   "outputs": [],
   "source": [
    "import numpy as np\n",
    "from matplotlib import pyplot\n",
    "import sklearn as skl\n",
    "import sklearn.pipeline as sklpipilne\n",
    "import sklearn.model_selection as sklms\n",
    "import sklearn.decomposition as skldeco\n",
    "import sklearn.neighbors as skln\n",
    "import joblib as jl\n",
    "\n",
    "import sys\n",
    "sys.path.append('..\\install\\lib')\n",
    "import mnpy as mn\n",
    "\n",
    "import reader\n",
    "import metnum"
   ]
  },
  {
   "cell_type": "code",
   "execution_count": 6,
   "metadata": {},
   "outputs": [],
   "source": [
    "gs = jl.load('search_best_params.pkl')"
   ]
  },
  {
   "cell_type": "code",
   "execution_count": 7,
   "metadata": {},
   "outputs": [
    {
     "data": {
      "text/plain": [
       "{'knn__distance_metric': <DistanceMetric.Euclidean: 0>,\n",
       " 'knn__k_neighbors': 4,\n",
       " 'knn__weights': <Weights.Distance: 1>,\n",
       " 'pca__iterated_power': 96,\n",
       " 'pca__n_components': 40,\n",
       " 'pca__tolerance_error': 0.0001}"
      ]
     },
     "execution_count": 7,
     "metadata": {},
     "output_type": "execute_result"
    }
   ],
   "source": [
    "gs.best_params_"
   ]
  }
 ],
 "metadata": {
  "interpreter": {
   "hash": "3eb2b664b51bbe16cd265cde49c165a10ee00e784d221a0f32d6941745607379"
  },
  "kernelspec": {
   "display_name": "Python 3.10.4 ('mntp')",
   "language": "python",
   "name": "python3"
  },
  "language_info": {
   "codemirror_mode": {
    "name": "ipython",
    "version": 3
   },
   "file_extension": ".py",
   "mimetype": "text/x-python",
   "name": "python",
   "nbconvert_exporter": "python",
   "pygments_lexer": "ipython3",
   "version": "3.10.4"
  },
  "orig_nbformat": 4
 },
 "nbformat": 4,
 "nbformat_minor": 2
}
