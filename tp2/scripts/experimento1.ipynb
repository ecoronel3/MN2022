{
 "cells": [
  {
   "cell_type": "markdown",
   "metadata": {},
   "source": [
    "En este experimiento, queremos comparar los resultados cuando utilizamos PCA y cuando no lo utilizamos\n",
    "kNN + PCA y kNN sin PCA, vs. k y α;"
   ]
  },
  {
   "cell_type": "code",
   "execution_count": null,
   "metadata": {},
   "outputs": [],
   "source": [
    "# Importamos nuestros modulos de python\n",
    "import sys\n",
    "sys.path.append('..\\install\\lib')\n",
    "import mnpy as mn\n",
    "import reader\n",
    "import metnum as metnum\n",
    "\n",
    "# Importamos otros modulos\n",
    "import numpy as np\n"
   ]
  }
 ],
 "metadata": {
  "language_info": {
   "name": "python"
  },
  "orig_nbformat": 4
 },
 "nbformat": 4,
 "nbformat_minor": 2
}
