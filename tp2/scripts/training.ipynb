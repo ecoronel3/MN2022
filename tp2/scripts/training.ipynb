{
 "cells": [
  {
   "cell_type": "code",
   "execution_count": null,
   "metadata": {},
   "outputs": [],
   "source": [
    "import sys\n",
    "sys.path.append('..\\install\\lib')\n",
    "\n",
    "import numpy as np\n",
    "import reader\n",
    "from matplotlib import pyplot\n",
    "import mnpy as mn\n",
    "import sklearn as skl\n",
    "import sklearn.pipeline as sklpipilne\n",
    "import sklearn.model_selection as sklms\n",
    "import sklearn.decomposition as skldeco\n",
    "import sklearn.neighbors as skln\n",
    "\n",
    "import metnum as metnum"
   ]
  },
  {
   "cell_type": "code",
   "execution_count": null,
   "metadata": {},
   "outputs": [],
   "source": [
    "def plot_gallery(images, titles, h, w, n_row=1, n_col=2):\n",
    "    pyplot.figure(figsize=(1.8 * n_col, 2.4 * n_row))\n",
    "    pyplot.subplots_adjust(bottom=0, left=.01, right=.99, top=.90, hspace=.35)\n",
    "    for i in range(n_row * n_col):\n",
    "        pyplot.subplot(n_row, n_col, i + 1)\n",
    "        pyplot.imshow(images[i].reshape((h, w)), cmap=pyplot.cm.gray)\n",
    "        pyplot.title(titles[i], size=12)\n",
    "        pyplot.xticks(())\n",
    "        pyplot.yticks(())\n"
   ]
  },
  {
   "cell_type": "code",
   "execution_count": null,
   "metadata": {},
   "outputs": [],
   "source": [
    "df = reader.read7Zip('../data/train.7z')\n",
    "targets = df['label'].to_numpy()\n",
    "# la primer columna es el label, el resto son los 28*28 pixeles de cada imagen\n",
    "images = df.iloc[:, 1:].to_numpy()\n",
    "\n",
    "cols = 10\n",
    "rows = 4\n",
    "samples = rows*cols\n",
    "titles = [\"Digito %d\" % digit for digit in targets[0:samples] ]\n",
    "plot_gallery(images[0:samples], titles, 28, 28, rows, cols)\n",
    "pyplot.show()"
   ]
  },
  {
   "cell_type": "code",
   "execution_count": null,
   "metadata": {},
   "outputs": [],
   "source": [
    "pca = mn.PCA(16, 120)\n",
    "training_dataset = images[0:4000]\n",
    "training_targets = targets[0:4000]\n",
    "\n",
    "pca.fit(training_dataset)\n",
    "\n",
    "knn = mn.kNNClassifier(2)\n",
    "knn.fit(pca.transform(training_dataset), training_targets)\n",
    "\n",
    "predict_dataset = images[5000:5040]\n",
    "predicted_tagets = knn.predict(pca.transform(predict_dataset))\n",
    "\n",
    "titles = [\"Digito %d\" % digit for digit in predicted_tagets[0:samples] ]\n",
    "plot_gallery(predict_dataset, titles, 28, 28, rows, cols)\n",
    "pyplot.show()\n"
   ]
  },
  {
   "cell_type": "code",
   "execution_count": null,
   "metadata": {},
   "outputs": [],
   "source": [
    "kfold = sklms.KFold(n_splits=5)\n",
    "splits = kfold.split(images, targets)\n",
    "for k, (train, test) in enumerate(splits):\n",
    "    print(k)\n",
    "    print(len(train))\n",
    "    print(train)\n",
    "\n",
    "    print(len(test))\n",
    "    print(test)\n"
   ]
  },
  {
   "cell_type": "code",
   "execution_count": null,
   "metadata": {},
   "outputs": [],
   "source": [
    "\n",
    "df = reader.read7Zip('../data/train.7z')\n",
    "targets = df['label'].to_numpy()\n",
    "# la primer columna es el label, el resto son los 28*28 pixeles de cada imagen\n",
    "images = df.iloc[:, 1:].to_numpy()\n",
    "\n",
    "kfold = sklms.KFold(n_splits=10, shuffle=True)\n",
    "n_components = [28]\n",
    "iterated_powers = [128]\n",
    "tolerance_errors = [0.00001, 0.00000001]\n",
    "k_neighbors = [4]\n",
    "search = metnum.GridSearchCV(n_components, iterated_powers, tolerance_errors, k_neighbors, cv=kfold)\n",
    "search.fit(images, targets)\n",
    "print(search.best_params)\n",
    "\n"
   ]
  },
  {
   "cell_type": "code",
   "execution_count": null,
   "metadata": {},
   "outputs": [],
   "source": [
    "# estimators = [(\"pca\", mn.PCA()), (\"knn\", mn.kNNClassifier())]\n",
    "estimators = [(\"pca\", skldeco.PCA()), (\"knn\", skln.KNeighborsClassifier())]\n",
    "pipeline = sklpipilne.Pipeline(estimators)\n",
    "\n",
    "param_grid = [\n",
    "    {\n",
    "        # 'pca__n_components': [2, 4, 8, 12, 16, 20, 24, 28],\n",
    "        # 'pca__iterated_power': [24, 32, 48, 64, 72, 96, 128 ],\n",
    "        # 'knn__k_neighbors': [1, 2, 3, 4, 5, 6, 7, 8],\n",
    "        'pca__n_components': [8, 12],\n",
    "        'pca__iterated_power': [24],\n",
    "        # 'knn__k_neighbors': [1, 2],\n",
    "        'knn__n_neighbors': [1, 2],\n",
    "    },\n",
    "]\n",
    "\n",
    "kfold = sklms.KFold(n_splits=10, shuffle=True)\n",
    "\n",
    "grid_search = sklms.GridSearchCV(estimator=pipeline, cv=kfold, param_grid=param_grid, verbose=True)\n",
    "grid_search.fit(X=images, y=targets)\n",
    "# results = grid_search.cv_results_['mean_test_score']\n",
    "# legends = grid_search.cv_results_['params']\n",
    "\n",
    "# best_params = grid_search.best_params_\n",
    "# best_k_neighbors = best_params['knn__k_neighbors']\n",
    "# best_n_components = best_params['pca__n_components']\n"
   ]
  },
  {
   "cell_type": "code",
   "execution_count": null,
   "metadata": {},
   "outputs": [],
   "source": [
    "results = grid_search.cv_results_['mean_test_score']\n",
    "legends = grid_search.cv_results_['params']\n",
    "\n",
    "best_params = grid_search.best_params_\n",
    "best_k_neighbors = best_params['knn__n_neighbors']\n",
    "best_n_components = best_params['pca__n_components']\n",
    "print(best_params)"
   ]
  }
 ],
 "metadata": {
  "interpreter": {
   "hash": "3eb2b664b51bbe16cd265cde49c165a10ee00e784d221a0f32d6941745607379"
  },
  "kernelspec": {
   "display_name": "Python 3.10.4 ('mntp')",
   "language": "python",
   "name": "python3"
  },
  "language_info": {
   "codemirror_mode": {
    "name": "ipython",
    "version": 3
   },
   "file_extension": ".py",
   "mimetype": "text/x-python",
   "name": "python",
   "nbconvert_exporter": "python",
   "pygments_lexer": "ipython3",
   "version": "3.10.4"
  },
  "orig_nbformat": 4
 },
 "nbformat": 4,
 "nbformat_minor": 2
}
