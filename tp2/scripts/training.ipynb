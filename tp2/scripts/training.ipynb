{
 "cells": [
  {
   "cell_type": "code",
   "execution_count": null,
   "metadata": {},
   "outputs": [],
   "source": [
    "import sys\n",
    "sys.path.append('..\\install\\lib')\n",
    "import mnpy as mn\n",
    "import reader\n",
    "import metnum as metnum\n",
    "\n",
    "import numpy as np\n",
    "from matplotlib import pyplot\n",
    "import sklearn.model_selection as sklms\n"
   ]
  },
  {
   "cell_type": "code",
   "execution_count": null,
   "metadata": {},
   "outputs": [],
   "source": [
    "df = reader.read7Zip('../data/train.7z')\n",
    "targets = df['label'].to_numpy()\n",
    "# la primer columna es el label, el resto son los 28*28 pixeles de cada imagen\n",
    "images = df.iloc[:, 1:].to_numpy()\n",
    "\n",
    "cols = 10\n",
    "rows = 4\n",
    "samples = rows*cols\n",
    "titles = [\"Dígito %d\" % digit for digit in targets[0:samples] ]\n",
    "metnum.plot_gallery(images[0:samples], titles, 28, 28, rows, cols)\n",
    "pyplot.show()"
   ]
  },
  {
   "cell_type": "code",
   "execution_count": null,
   "metadata": {},
   "outputs": [],
   "source": [
    "pca = mn.PCA(64, 120)\n",
    "pca.tolerance_error = 0.000001\n",
    "training_dataset = images[0:4000]\n",
    "training_targets = targets[0:4000]\n",
    "\n",
    "pca.fit(training_dataset)\n",
    "\n",
    "knn = mn.kNNClassifier(4, mn.KNNWeights.Uniform)\n",
    "knn.fit(pca.transform(training_dataset), training_targets)\n",
    "\n",
    "predict_dataset = images[5000:5040]\n",
    "predicted_tagets = knn.predict(pca.transform(predict_dataset))\n",
    "\n",
    "titles = [\"Digito %d\" % digit for digit in predicted_tagets[0:samples] ]\n",
    "metnum.plot_gallery(predict_dataset, titles, 28, 28, rows, cols)\n",
    "pyplot.show()\n"
   ]
  },
  {
   "cell_type": "code",
   "execution_count": null,
   "metadata": {},
   "outputs": [],
   "source": [
    "\n",
    "# df = reader.read7Zip('../data/train.7z')\n",
    "# all_targets = df['label'].to_numpy()\n",
    "# # la primer columna es el label, el resto son los 28*28 pixeles de cada imagen\n",
    "# all_images = df.iloc[:, 1:].to_numpy()\n",
    "\n",
    "# targets = all_targets[0:5000]\n",
    "# images = all_images[0:5000]\n",
    "\n",
    "# kfold = sklms.KFold(n_splits=10, shuffle=True)\n",
    "# n_components = [8, 12, 16, 32]\n",
    "# iterated_powers = [128]\n",
    "# tolerance_errors = [0.0001]\n",
    "# k_neighbors = [4]\n",
    "# search = metnum.GridSearchCV(n_components, iterated_powers, tolerance_errors, k_neighbors, cv=kfold)\n",
    "# search.fit(images, targets)\n",
    "# print(\"Mejores parametros: \", search.best_params)\n",
    "# print(\"Todos los resultados: \", search.results)\n",
    "\n"
   ]
  },
  {
   "cell_type": "markdown",
   "metadata": {},
   "source": [
    "Momento de graficar."
   ]
  },
  {
   "cell_type": "code",
   "execution_count": null,
   "metadata": {},
   "outputs": [],
   "source": [
    "df = reader.read7Zip('../data/train.7z')\n",
    "all_targets = df['label'].to_numpy()\n",
    "# la primer columna es el label, el resto son los 28*28 pixeles de cada imagen\n",
    "all_images = df.iloc[:, 1:].to_numpy()\n",
    "\n",
    "targets = all_targets[0:5000]\n",
    "images = all_images[0:5000]\n",
    "\n",
    "kfold = sklms.KFold(n_splits=10, shuffle=True)\n",
    "knn_params = [{ \n",
    "        'k_neighbor' : [1, 2, 3, 4, 5],\n",
    "        # 'weights' : [0, 1, 2],\n",
    "    }]\n",
    "\n",
    "pca_params = [{ \n",
    "        # 'n_component' : [8, 16, 24, 32, ],\n",
    "        # 'iterated_power' : [64, 96],\n",
    "        'n_component' : [8, 16, 32, 48, 64 ],\n",
    "        'iterated_power' : [32, 64, 96],\n",
    "    }]\n",
    "\n",
    "search = metnum.NewGridSearchCV(pca_params, knn_params, cv=kfold)\n",
    "search.fit(images, targets)\n",
    "# print(\"Mejores parametros: \", search.best_params)\n",
    "# print(\"Todos los resultados: \", search.results)\n"
   ]
  },
  {
   "cell_type": "code",
   "execution_count": null,
   "metadata": {},
   "outputs": [],
   "source": [
    "best_result = {}\n",
    "scores = {}\n",
    "for result in search.results:\n",
    "    n_component = result['pca_parameters']['n_component']\n",
    "    iterated_power = result['pca_parameters']['iterated_power']\n",
    "    k_neighbor = result['knn_parameters']['k_neighbor']\n",
    "    key = (n_component, iterated_power, k_neighbor)\n",
    "    if not key in scores:\n",
    "        scores[key] = []\n",
    "    \n",
    "    scores[key].append(result['score'])\n",
    "\n",
    "for [key, score] in scores.items():\n",
    "    mean = sum(score) / len(score)\n",
    "    print(key, mean)\n"
   ]
  }
 ],
 "metadata": {
  "interpreter": {
   "hash": "3eb2b664b51bbe16cd265cde49c165a10ee00e784d221a0f32d6941745607379"
  },
  "kernelspec": {
   "display_name": "Python 3.10.4 ('mntp')",
   "language": "python",
   "name": "python3"
  },
  "language_info": {
   "codemirror_mode": {
    "name": "ipython",
    "version": 3
   },
   "file_extension": ".py",
   "mimetype": "text/x-python",
   "name": "python",
   "nbconvert_exporter": "python",
   "pygments_lexer": "ipython3",
   "version": "3.10.4"
  },
  "orig_nbformat": 4
 },
 "nbformat": 4,
 "nbformat_minor": 2
}
