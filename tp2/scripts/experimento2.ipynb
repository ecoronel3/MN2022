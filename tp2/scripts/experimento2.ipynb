{
 "cells": [
  {
   "cell_type": "markdown",
   "metadata": {},
   "source": [
    "# EXPERIMENTO 2: kNN sin PCA vs. k "
   ]
  },
  {
   "cell_type": "code",
   "execution_count": null,
   "metadata": {},
   "outputs": [],
   "source": [
    "# Importamos los módulos necesarios\n",
    "import numpy as np\n",
    "import plotly\n",
    "from plotly.graph_objs import Scatter, Layout, Bar, Figure\n",
    "plotly.offline.init_notebook_mode()\n",
    "from matplotlib import pyplot\n",
    "import sklearn as skl\n",
    "import sklearn.pipeline as sklpipilne\n",
    "import sklearn.model_selection as sklms\n",
    "import sklearn.decomposition as skldeco\n",
    "import sklearn.neighbors as skln\n",
    "import joblib as jl\n",
    "\n",
    "import sys\n",
    "sys.path.append('..\\install\\lib')\n",
    "import mnpy as mn\n",
    "\n",
    "import reader\n",
    "import metnum"
   ]
  },
  {
   "cell_type": "markdown",
   "metadata": {},
   "source": [
    "Cargamos los datos en un data frame"
   ]
  },
  {
   "cell_type": "code",
   "execution_count": null,
   "metadata": {},
   "outputs": [],
   "source": [
    "df = reader.read7Zip('../data/train.7z')\n",
    "targets = df['label'].to_numpy()\n",
    "# La primer columna es el dígito correspondiente de cada imagen (de nombre 'label')\n",
    "# El resto son los 28*28 pixeles de cada imagen\n",
    "images = df.iloc[:, 1:].to_numpy()"
   ]
  },
  {
   "cell_type": "markdown",
   "metadata": {},
   "source": [
    "Experimentamos variando los parámetros de KNN:"
   ]
  },
  {
   "cell_type": "code",
   "execution_count": null,
   "metadata": {},
   "outputs": [],
   "source": [
    "training_dataset = images[0:10000]\n",
    "training_targets = targets[0:10000]\n",
    "\n",
    "# estimators = [(\"knn\", skln.KNeighborsClassifier())]\n",
    "estimators = [(\"knn\", mn.kNNClassifier())]\n",
    "pipeline = sklpipilne.Pipeline(estimators)\n",
    "\n",
    "param_grid = [\n",
    "    {\n",
    "        # PCA parameters\n",
    "        'pca__n_components': # parámetro fijo - que explique tanto % de la varianza total -,    \n",
    "        'pca__iterated_power': # parámetro fijo,\n",
    "        'pca__tolerance_error': # parámetro fijo,                             \n",
    "\n",
    "        # KNN parameters\n",
    "        'knn__k_neighbors': [1, 2, 4, 6, 8, 10, 16],                          \n",
    "        'knn__distance_metric': [mn.DistanceMetric.Euclidean],\n",
    "        'knn__weights': [mn.Weights.Uniform],\n",
    "    },\n",
    "]\n",
    "\n",
    "# kfold = sklms.KFold(n_splits=10, shuffle=True)\n",
    "kfold = sklms.KFold(n_splits=20)\n",
    "\n",
    "grid_search = sklms.GridSearchCV(estimator=pipeline, cv=kfold, param_grid=param_grid)\n",
    "grid_search.fit(X=training_dataset, y=training_targets)\n",
    "print(grid_search.best_params_)\n",
    "results = grid_search.cv_results_['mean_test_score']\n",
    "print(max(results))"
   ]
  },
  {
   "cell_type": "markdown",
   "metadata": {},
   "source": [
    "Configuración concerniente a la figura:"
   ]
  },
  {
   "cell_type": "code",
   "execution_count": null,
   "metadata": {},
   "outputs": [],
   "source": [
    "def graph_config(legends, results):\n",
    "    old_n_neighbors = legends[0]['knn__k_neighbors']\n",
    "    set_of_lists_with_results = []\n",
    "    list_with_results = []\n",
    "    graph_names = []\n",
    "    for index, legend in enumerate(legends):\n",
    "        new_n_neighbors = legend['knn__k_neighbors']\n",
    "\n",
    "        if new_n_neighbors == old_n_neighbors:\n",
    "            list_with_results.append(results[index])\n",
    "        else:\n",
    "            graph_names.append(old_n_neighbors)\n",
    "            set_of_lists_with_results.append(list_with_results)\n",
    "            list_with_results = [results[index]]\n",
    "            old_n_neighbors = new_n_neighbors\n",
    "    graph_names.append(new_n_neighbors)\n",
    "    set_of_lists_with_results.append(list_with_results)\n",
    "    return graph_names, set_of_lists_with_results\n",
    "\n",
    "def graph(k_Neighbors, set_of_lists_with_results):\n",
    "    traces = []\n",
    "    for set in enumerate(set_of_lists_with_results):\n",
    "        x = k_Neighbors\n",
    "        y = set\n",
    "        traces.append(Scatter(x=x, y=y))\n",
    "    layout = Layout(\n",
    "        xaxis=dict(\n",
    "            title='Cantidad de vecinos',\n",
    "            type='log',\n",
    "            autorange=True\n",
    "        ),\n",
    "        yaxis=dict(\n",
    "            title='% Accuracy',\n",
    "            type='log',\n",
    "            autorange=True\n",
    "        ),\n",
    "        title=\"Medida de Performance - Accuracy - Considerando norma p = 2 y peso uniforme en kNN\"\n",
    "    )\n",
    "    figure = Figure(data=traces, layout=layout)\n",
    "    plotly.offline.iplot(figure)"
   ]
  },
  {
   "cell_type": "markdown",
   "metadata": {},
   "source": [
    "Generación del gráfico:"
   ]
  },
  {
   "cell_type": "code",
   "execution_count": null,
   "metadata": {},
   "outputs": [],
   "source": [
    "graph_names, set_of_lists_with_results = graph_config(legends, results)\n",
    "graph(k_Neighbors, graph_names, set_of_lists_with_results)"
   ]
  },
  {
   "cell_type": "markdown",
   "metadata": {},
   "source": [
    "Guardamos los parámetros obtenidos para un posterior análisis:"
   ]
  },
  {
   "cell_type": "code",
   "execution_count": null,
   "metadata": {},
   "outputs": [],
   "source": [
    "results = grid_search.cv_results_['mean_test_score']\n",
    "legends = grid_search.cv_results_['params']\n",
    "\n",
    "best_params = grid_search.best_params_\n",
    "best_k_neighbors = best_params['knn__k_neighbors']\n",
    "best_n_components = best_params['pca__n_components']\n",
    "\n",
    "graph_names, set_of_lists_with_results = graph_config(legends, results)\n",
    "\n",
    "jl.dump(grid_search, 'search_best_params.pkl', compress=True)"
   ]
  }
 ],
 "metadata": {
  "interpreter": {
   "hash": "f0e34d68b6ae2cee83dc500cc15883c26602a335491e85a8d41c697e0115670d"
  },
  "kernelspec": {
   "display_name": "Python 3.10.4 ('envMN')",
   "language": "python",
   "name": "python3"
  },
  "language_info": {
   "codemirror_mode": {
    "name": "ipython",
    "version": 3
   },
   "file_extension": ".py",
   "mimetype": "text/x-python",
   "name": "python",
   "nbconvert_exporter": "python",
   "pygments_lexer": "ipython3",
   "version": "3.10.4"
  },
  "orig_nbformat": 4
 },
 "nbformat": 4,
 "nbformat_minor": 2
}
