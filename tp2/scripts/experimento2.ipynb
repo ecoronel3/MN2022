{
 "cells": [
  {
   "cell_type": "markdown",
   "metadata": {},
   "source": [
    "kNN + PCA vs. k y n"
   ]
  },
  {
   "cell_type": "code",
   "execution_count": null,
   "metadata": {},
   "outputs": [],
   "source": [
    "# Importamos nuestros modulos de python\n",
    "import sys\n",
    "sys.path.append('..\\install\\lib')\n",
    "import mnpy as mn\n",
    "import reader\n",
    "import metnum as metnum\n",
    "\n",
    "# Importamos otros modulos\n",
    "import numpy as np\n"
   ]
  }
 ],
 "metadata": {
  "language_info": {
   "name": "python"
  },
  "orig_nbformat": 4
 },
 "nbformat": 4,
 "nbformat_minor": 2
}
